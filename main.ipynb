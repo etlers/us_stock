{
 "cells": [
  {
   "cell_type": "code",
   "execution_count": 5,
   "id": "74f1ef23-d36d-478f-aab9-d386d2fde0ba",
   "metadata": {},
   "outputs": [
    {
     "name": "stdout",
     "output_type": "stream",
     "text": [
      "Collecting yahoo_fin\n",
      "  Using cached yahoo_fin-0.8.9.1-py3-none-any.whl (10 kB)\n",
      "Requirement already satisfied: requests in /Users/etlers/opt/anaconda3/lib/python3.9/site-packages (from yahoo_fin) (2.27.1)\n",
      "Collecting requests-html\n",
      "  Using cached requests_html-0.10.0-py3-none-any.whl (13 kB)\n",
      "Requirement already satisfied: pandas in /Users/etlers/opt/anaconda3/lib/python3.9/site-packages (from yahoo_fin) (1.4.2)\n",
      "Collecting feedparser\n",
      "  Using cached feedparser-6.0.10-py3-none-any.whl (81 kB)\n",
      "Collecting sgmllib3k\n",
      "  Using cached sgmllib3k-1.0.0.tar.gz (5.8 kB)\n",
      "Requirement already satisfied: python-dateutil>=2.8.1 in /Users/etlers/opt/anaconda3/lib/python3.9/site-packages (from pandas->yahoo_fin) (2.8.2)\n",
      "Requirement already satisfied: pytz>=2020.1 in /Users/etlers/opt/anaconda3/lib/python3.9/site-packages (from pandas->yahoo_fin) (2021.3)\n",
      "Requirement already satisfied: numpy>=1.18.5 in /Users/etlers/opt/anaconda3/lib/python3.9/site-packages (from pandas->yahoo_fin) (1.21.5)\n",
      "Requirement already satisfied: six>=1.5 in /Users/etlers/opt/anaconda3/lib/python3.9/site-packages (from python-dateutil>=2.8.1->pandas->yahoo_fin) (1.16.0)\n",
      "Requirement already satisfied: certifi>=2017.4.17 in /Users/etlers/opt/anaconda3/lib/python3.9/site-packages (from requests->yahoo_fin) (2021.10.8)\n",
      "Requirement already satisfied: urllib3<1.27,>=1.21.1 in /Users/etlers/opt/anaconda3/lib/python3.9/site-packages (from requests->yahoo_fin) (1.26.9)\n",
      "Requirement already satisfied: idna<4,>=2.5 in /Users/etlers/opt/anaconda3/lib/python3.9/site-packages (from requests->yahoo_fin) (3.3)\n",
      "Requirement already satisfied: charset-normalizer~=2.0.0 in /Users/etlers/opt/anaconda3/lib/python3.9/site-packages (from requests->yahoo_fin) (2.0.4)\n",
      "Collecting parse\n",
      "  Using cached parse-1.19.0.tar.gz (30 kB)\n",
      "Requirement already satisfied: w3lib in /Users/etlers/opt/anaconda3/lib/python3.9/site-packages (from requests-html->yahoo_fin) (1.21.0)\n",
      "Collecting pyppeteer>=0.0.14\n",
      "  Using cached pyppeteer-1.0.2-py3-none-any.whl (83 kB)\n",
      "Collecting bs4\n",
      "  Using cached bs4-0.0.1.tar.gz (1.1 kB)\n",
      "Collecting pyquery\n",
      "  Using cached pyquery-1.4.3-py3-none-any.whl (22 kB)\n",
      "Collecting fake-useragent\n",
      "  Using cached fake-useragent-0.1.11.tar.gz (13 kB)\n",
      "Requirement already satisfied: tqdm<5.0.0,>=4.42.1 in /Users/etlers/opt/anaconda3/lib/python3.9/site-packages (from pyppeteer>=0.0.14->requests-html->yahoo_fin) (4.64.0)\n",
      "Requirement already satisfied: appdirs<2.0.0,>=1.4.3 in /Users/etlers/opt/anaconda3/lib/python3.9/site-packages (from pyppeteer>=0.0.14->requests-html->yahoo_fin) (1.4.4)\n",
      "Collecting websockets<11.0,>=10.0\n",
      "  Downloading websockets-10.3-cp39-cp39-macosx_10_9_x86_64.whl (97 kB)\n",
      "\u001b[K     |████████████████████████████████| 97 kB 5.7 MB/s  eta 0:00:01\n",
      "\u001b[?25hCollecting pyee<9.0.0,>=8.1.0\n",
      "  Using cached pyee-8.2.2-py2.py3-none-any.whl (12 kB)\n",
      "Requirement already satisfied: importlib-metadata>=1.4 in /Users/etlers/opt/anaconda3/lib/python3.9/site-packages (from pyppeteer>=0.0.14->requests-html->yahoo_fin) (4.11.3)\n",
      "Requirement already satisfied: zipp>=0.5 in /Users/etlers/opt/anaconda3/lib/python3.9/site-packages (from importlib-metadata>=1.4->pyppeteer>=0.0.14->requests-html->yahoo_fin) (3.7.0)\n",
      "Requirement already satisfied: beautifulsoup4 in /Users/etlers/opt/anaconda3/lib/python3.9/site-packages (from bs4->requests-html->yahoo_fin) (4.11.1)\n",
      "Requirement already satisfied: soupsieve>1.2 in /Users/etlers/opt/anaconda3/lib/python3.9/site-packages (from beautifulsoup4->bs4->requests-html->yahoo_fin) (2.3.1)\n",
      "Requirement already satisfied: cssselect>0.7.9 in /Users/etlers/opt/anaconda3/lib/python3.9/site-packages (from pyquery->requests-html->yahoo_fin) (1.1.0)\n",
      "Requirement already satisfied: lxml>=2.1 in /Users/etlers/opt/anaconda3/lib/python3.9/site-packages (from pyquery->requests-html->yahoo_fin) (4.8.0)\n",
      "Building wheels for collected packages: bs4, fake-useragent, parse, sgmllib3k\n",
      "  Building wheel for bs4 (setup.py) ... \u001b[?25ldone\n",
      "\u001b[?25h  Created wheel for bs4: filename=bs4-0.0.1-py3-none-any.whl size=1272 sha256=563773599365a86e7f2482759c7ef3e54b7a6455f5d73906d02341b3fd41e779\n",
      "  Stored in directory: /Users/etlers/Library/Caches/pip/wheels/73/2b/cb/099980278a0c9a3e57ff1a89875ec07bfa0b6fcbebb9a8cad3\n",
      "  Building wheel for fake-useragent (setup.py) ... \u001b[?25ldone\n",
      "\u001b[?25h  Created wheel for fake-useragent: filename=fake_useragent-0.1.11-py3-none-any.whl size=13502 sha256=caecbd33013118e0fd216cb9bc754264e1d8ae22e6084710f84e47b5e68dfb7d\n",
      "  Stored in directory: /Users/etlers/Library/Caches/pip/wheels/ae/e7/76/7dd44644d065268ab0e1b4fa2e802fa4bb0157717b7d6c6d92\n",
      "  Building wheel for parse (setup.py) ... \u001b[?25ldone\n",
      "\u001b[?25h  Created wheel for parse: filename=parse-1.19.0-py3-none-any.whl size=24591 sha256=eef309a221025a3f340ccf1d6f16b95cbbac7e92611690d9362a5c934a2283c4\n",
      "  Stored in directory: /Users/etlers/Library/Caches/pip/wheels/d6/9c/58/ee3ba36897e890f3ad81e9b730791a153fce20caa4a8a474df\n",
      "  Building wheel for sgmllib3k (setup.py) ... \u001b[?25ldone\n",
      "\u001b[?25h  Created wheel for sgmllib3k: filename=sgmllib3k-1.0.0-py3-none-any.whl size=6066 sha256=ac8c9b08870270bb68ba0b5b9f8ba86b5651b322d6bd5e09151c2ec3bfae40cb\n",
      "  Stored in directory: /Users/etlers/Library/Caches/pip/wheels/65/7a/a7/78c287f64e401255dff4c13fdbc672fed5efbfd21c530114e1\n",
      "Successfully built bs4 fake-useragent parse sgmllib3k\n",
      "Installing collected packages: websockets, pyee, sgmllib3k, pyquery, pyppeteer, parse, fake-useragent, bs4, requests-html, feedparser, yahoo-fin\n",
      "Successfully installed bs4-0.0.1 fake-useragent-0.1.11 feedparser-6.0.10 parse-1.19.0 pyee-8.2.2 pyppeteer-1.0.2 pyquery-1.4.3 requests-html-0.10.0 sgmllib3k-1.0.0 websockets-10.3 yahoo-fin-0.8.9.1\n"
     ]
    }
   ],
   "source": [
    "!pip install yahoo_fin"
   ]
  },
  {
   "cell_type": "code",
   "execution_count": 7,
   "id": "294a586a-a20f-4c2d-9d13-f6d783753873",
   "metadata": {},
   "outputs": [],
   "source": [
    "import pandas as pd\n",
    "\n",
    "# 연속 로그 출력\n",
    "from IPython.core.interactiveshell import InteractiveShell\n",
    "InteractiveShell.ast_node_interactivity = \"all\"\n",
    "\n",
    "import yahoo_fin.stock_info as SI"
   ]
  },
  {
   "cell_type": "code",
   "execution_count": 8,
   "id": "4aac95f0-0173-4740-8517-e4eacc8e685a",
   "metadata": {},
   "outputs": [
    {
     "data": {
      "text/plain": [
       "503"
      ]
     },
     "execution_count": 8,
     "metadata": {},
     "output_type": "execute_result"
    }
   ],
   "source": [
    "sp500_tickers = SI.tickers_sp500()\n",
    "len(sp500_tickers)"
   ]
  },
  {
   "cell_type": "code",
   "execution_count": 11,
   "id": "943d7d7c-9363-4a3c-970a-38af6efec014",
   "metadata": {},
   "outputs": [],
   "source": [
    "#get each stock's info\n",
    "def get_stockinfo(stock_ticker):\n",
    "    try:\n",
    "        stock_info = SI.get_quote_table(stock_ticker, dict_result=True)\n",
    "        #for change '.' -> '-'  , 1. divide key list,val list\n",
    "        stock_val = list(stock_info.values())\n",
    "        stock_key = list(stock_info.keys())\n",
    "        #2.confrim whether there are dot('.') and replace('-')\n",
    "        for idx,val in enumerate(stock_key) :\n",
    "            if  \".\" in val:\n",
    "                stock_key[idx] = val.replace(\".\" , \"-\")\n",
    "        #3.and put back together\n",
    "        store_stockInfo = dict()\n",
    "        store_stockInfo['ticker'] = stock_ticker\n",
    "        for x, y in zip(stock_key , stock_val):\n",
    "            store_stockInfo[x] = y #x is key, y is val\n",
    "        return store_stockInfo\n",
    "    except Exception as e:\n",
    "        return None"
   ]
  },
  {
   "cell_type": "code",
   "execution_count": 16,
   "id": "da69f0a0-228b-4999-954d-d91dff46ab40",
   "metadata": {},
   "outputs": [
    {
     "name": "stderr",
     "output_type": "stream",
     "text": [
      "/Users/etlers/opt/anaconda3/lib/python3.9/site-packages/yahoo_fin/stock_info.py:295: FutureWarning: The frame.append method is deprecated and will be removed from pandas in a future version. Use pandas.concat instead.\n",
      "  data = tables[0].append(tables[1])\n",
      "/Users/etlers/opt/anaconda3/lib/python3.9/site-packages/yahoo_fin/stock_info.py:302: FutureWarning: The frame.append method is deprecated and will be removed from pandas in a future version. Use pandas.concat instead.\n",
      "  data = data.append(quote_price)\n"
     ]
    },
    {
     "data": {
      "text/plain": [
       "{'1y Target Est': 183.3,\n",
       " '52 Week Range': '129.04 - 182.94',\n",
       " 'Ask': '0.00 x 800',\n",
       " 'Avg. Volume': 79521727.0,\n",
       " 'Beta (5Y Monthly)': 1.23,\n",
       " 'Bid': '0.00 x 900',\n",
       " \"Day's Range\": '171.66 - 173.71',\n",
       " 'EPS (TTM)': 6.05,\n",
       " 'Earnings Date': 'Oct 26, 2022 - Oct 31, 2022',\n",
       " 'Ex-Dividend Date': 'Aug 05, 2022',\n",
       " 'Forward Dividend & Yield': '0.92 (0.53%)',\n",
       " 'Market Cap': '2.781T',\n",
       " 'Open': 172.78,\n",
       " 'PE Ratio (TTM)': 28.6,\n",
       " 'Previous Close': 173.19,\n",
       " 'Quote Price': 173.02999877929688,\n",
       " 'Volume': 56377050.0}"
      ]
     },
     "execution_count": 16,
     "metadata": {},
     "output_type": "execute_result"
    }
   ],
   "source": [
    "SI.get_quote_table(\"AAPL\", dict_result=True)"
   ]
  },
  {
   "cell_type": "code",
   "execution_count": null,
   "id": "1f3e4606-a247-4d56-acbf-953067b68357",
   "metadata": {},
   "outputs": [],
   "source": []
  }
 ],
 "metadata": {
  "kernelspec": {
   "display_name": "Python 3 (ipykernel)",
   "language": "python",
   "name": "python3"
  },
  "language_info": {
   "codemirror_mode": {
    "name": "ipython",
    "version": 3
   },
   "file_extension": ".py",
   "mimetype": "text/x-python",
   "name": "python",
   "nbconvert_exporter": "python",
   "pygments_lexer": "ipython3",
   "version": "3.9.12"
  }
 },
 "nbformat": 4,
 "nbformat_minor": 5
}
